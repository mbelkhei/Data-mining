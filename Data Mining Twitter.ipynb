{
 "cells": [
  {
   "cell_type": "markdown",
   "metadata": {},
   "source": [
    "# Data Mining Twitter"
   ]
  },
  {
   "cell_type": "code",
   "execution_count": 1,
   "metadata": {
    "collapsed": true
   },
   "outputs": [],
   "source": [
    "import twitter\n",
    "import json\n",
    "\n",
    "import numpy as np\n",
    "import pandas as pd\n",
    "\n",
    "import matplotlib.pyplot as plt\n",
    "%matplotlib inline "
   ]
  },
  {
   "cell_type": "code",
   "execution_count": 22,
   "metadata": {},
   "outputs": [
    {
     "data": {
      "text/plain": [
       "<twitter.api.Twitter at 0x446acacb00>"
      ]
     },
     "execution_count": 22,
     "metadata": {},
     "output_type": "execute_result"
    }
   ],
   "source": [
    "# Twitter authentification\n",
    "CONSUMER_KEY = ''\n",
    "CONSUMER_SECRET = ''\n",
    "OAUTH_TOKEN = ''\n",
    "OAUTH_TOKEN_SECRET = ''\n",
    "\n",
    "auth = twitter.oauth.OAuth(OAUTH_TOKEN, OAUTH_TOKEN_SECRET,\n",
    "                           CONSUMER_KEY, CONSUMER_SECRET)\n",
    "\n",
    "twitter_api = twitter.Twitter(auth=auth)\n",
    "\n",
    "twitter_api"
   ]
  },
  {
   "cell_type": "code",
   "execution_count": 3,
   "metadata": {
    "scrolled": false
   },
   "outputs": [
    {
     "name": "stdout",
     "output_type": "stream",
     "text": [
      "[{'trends': [{'name': '#OTGala12', 'tweet_volume': 132551, 'promoted_content': None, 'url': 'http://twitter.com/search?q=%23OTGala12', 'query': '%23OTGala12'}, {'name': '#isola', 'tweet_volume': 72468, 'promoted_content': None, 'url': 'http://twitter.com/search?q=%23isola', 'query': '%23isola'}, {'name': '#بن_شرقي_هلالي', 'tweet_volume': 69384, 'promoted_content': None, 'url': 'http://twitter.com/search?q=%23%D8%A8%D9%86_%D8%B4%D8%B1%D9%82%D9%8A_%D9%87%D9%84%D8%A7%D9%84%D9%8A', 'query': '%23%D8%A8%D9%86_%D8%B4%D8%B1%D9%82%D9%8A_%D9%87%D9%84%D8%A7%D9%84%D9%8A'}, {'name': 'Swansea', 'tweet_volume': 91259, 'promoted_content': None, 'url': 'http://twitter.com/search?q=Swansea', 'query': 'Swansea'}, {'name': 'Jason Kidd', 'tweet_volume': 35435, 'promoted_content': None, 'url': 'http://twitter.com/search?q=%22Jason+Kidd%22', 'query': '%22Jason+Kidd%22'}, {'name': '#PremiosFeroz', 'tweet_volume': None, 'promoted_content': None, 'url': 'http://twitter.com/search?q=%23PremiosFeroz', 'query': '%23PremiosFeroz'}, {'name': '#COAC2018P14', 'tweet_volume': None, 'promoted_content': None, 'url': 'http://twitter.com/search?q=%23COAC2018P14', 'query': '%23COAC2018P14'}, {'name': 'Van Dijk', 'tweet_volume': 16019, 'promoted_content': None, 'url': 'http://twitter.com/search?q=%22Van+Dijk%22', 'query': '%22Van+Dijk%22'}, {'name': 'Lallana', 'tweet_volume': None, 'promoted_content': None, 'url': 'http://twitter.com/search?q=Lallana', 'query': 'Lallana'}, {'name': 'Dualarımız TürkAskerleriyle', 'tweet_volume': 10379, 'promoted_content': None, 'url': 'http://twitter.com/search?q=%22Dualar%C4%B1m%C4%B1z+T%C3%BCrkAskerleriyle%22', 'query': '%22Dualar%C4%B1m%C4%B1z+T%C3%BCrkAskerleriyle%22'}, {'name': 'Unión Europea', 'tweet_volume': 52824, 'promoted_content': None, 'url': 'http://twitter.com/search?q=%22Uni%C3%B3n+Europea%22', 'query': '%22Uni%C3%B3n+Europea%22'}, {'name': 'Rupert Murdoch', 'tweet_volume': None, 'promoted_content': None, 'url': 'http://twitter.com/search?q=%22Rupert+Murdoch%22', 'query': '%22Rupert+Murdoch%22'}, {'name': 'Typical Liverpool', 'tweet_volume': None, 'promoted_content': None, 'url': 'http://twitter.com/search?q=%22Typical+Liverpool%22', 'query': '%22Typical+Liverpool%22'}, {'name': 'Noche Alba', 'tweet_volume': None, 'promoted_content': None, 'url': 'http://twitter.com/search?q=%22Noche+Alba%22', 'query': '%22Noche+Alba%22'}, {'name': 'Wijnaldum', 'tweet_volume': None, 'promoted_content': None, 'url': 'http://twitter.com/search?q=Wijnaldum', 'query': 'Wijnaldum'}, {'name': '#FanáticosMengão', 'tweet_volume': 78258, 'promoted_content': None, 'url': 'http://twitter.com/search?q=%23Fan%C3%A1ticosMeng%C3%A3o', 'query': '%23Fan%C3%A1ticosMeng%C3%A3o'}, {'name': '#CondenaTRF4', 'tweet_volume': 48100, 'promoted_content': None, 'url': 'http://twitter.com/search?q=%23CondenaTRF4', 'query': '%23CondenaTRF4'}, {'name': '#JuveGenoa', 'tweet_volume': 12491, 'promoted_content': None, 'url': 'http://twitter.com/search?q=%23JuveGenoa', 'query': '%23JuveGenoa'}, {'name': '#ADP2018', 'tweet_volume': None, 'promoted_content': None, 'url': 'http://twitter.com/search?q=%23ADP2018', 'query': '%23ADP2018'}, {'name': '#راحت_حياتي_وانا_ماقلت', 'tweet_volume': 42857, 'promoted_content': None, 'url': 'http://twitter.com/search?q=%23%D8%B1%D8%A7%D8%AD%D8%AA_%D8%AD%D9%8A%D8%A7%D8%AA%D9%8A_%D9%88%D8%A7%D9%86%D8%A7_%D9%85%D8%A7%D9%82%D9%84%D8%AA', 'query': '%23%D8%B1%D8%A7%D8%AD%D8%AA_%D8%AD%D9%8A%D8%A7%D8%AA%D9%8A_%D9%88%D8%A7%D9%86%D8%A7_%D9%85%D8%A7%D9%82%D9%84%D8%AA'}, {'name': '#Alexis7', 'tweet_volume': 268018, 'promoted_content': None, 'url': 'http://twitter.com/search?q=%23Alexis7', 'query': '%23Alexis7'}, {'name': '#ChileLindo', 'tweet_volume': 14740, 'promoted_content': None, 'url': 'http://twitter.com/search?q=%23ChileLindo', 'query': '%23ChileLindo'}, {'name': '#RAW25', 'tweet_volume': 63203, 'promoted_content': None, 'url': 'http://twitter.com/search?q=%23RAW25', 'query': '%23RAW25'}, {'name': '#banamasalanlatbaba', 'tweet_volume': 26440, 'promoted_content': None, 'url': 'http://twitter.com/search?q=%23banamasalanlatbaba', 'query': '%23banamasalanlatbaba'}, {'name': '#EDS2000', 'tweet_volume': None, 'promoted_content': None, 'url': 'http://twitter.com/search?q=%23EDS2000', 'query': '%23EDS2000'}, {'name': '#FirstDates540', 'tweet_volume': None, 'promoted_content': None, 'url': 'http://twitter.com/search?q=%23FirstDates540', 'query': '%23FirstDates540'}, {'name': '#OperasyonYavuz', 'tweet_volume': 66762, 'promoted_content': None, 'url': 'http://twitter.com/search?q=%23OperasyonYavuz', 'query': '%23OperasyonYavuz'}, {'name': '#بردنا_في_العظم', 'tweet_volume': 13327, 'promoted_content': None, 'url': 'http://twitter.com/search?q=%23%D8%A8%D8%B1%D8%AF%D9%86%D8%A7_%D9%81%D9%8A_%D8%A7%D9%84%D8%B9%D8%B8%D9%85', 'query': '%23%D8%A8%D8%B1%D8%AF%D9%86%D8%A7_%D9%81%D9%8A_%D8%A7%D9%84%D8%B9%D8%B8%D9%85'}, {'name': '#ÇünküSevda', 'tweet_volume': 344059, 'promoted_content': None, 'url': 'http://twitter.com/search?q=%23%C3%87%C3%BCnk%C3%BCSevda', 'query': '%23%C3%87%C3%BCnk%C3%BCSevda'}, {'name': '#BALFTV3', 'tweet_volume': None, 'promoted_content': None, 'url': 'http://twitter.com/search?q=%23BALFTV3', 'query': '%23BALFTV3'}, {'name': '#فصل_معلم_اعتدي_علي_طالب', 'tweet_volume': None, 'promoted_content': None, 'url': 'http://twitter.com/search?q=%23%D9%81%D8%B5%D9%84_%D9%85%D8%B9%D9%84%D9%85_%D8%A7%D8%B9%D8%AA%D8%AF%D9%8A_%D8%B9%D9%84%D9%8A_%D8%B7%D8%A7%D9%84%D8%A8', 'query': '%23%D9%81%D8%B5%D9%84_%D9%85%D8%B9%D9%84%D9%85_%D8%A7%D8%B9%D8%AA%D8%AF%D9%8A_%D8%B9%D9%84%D9%8A_%D8%B7%D8%A7%D9%84%D8%A8'}, {'name': '#TvzVerãoNordeste', 'tweet_volume': None, 'promoted_content': None, 'url': 'http://twitter.com/search?q=%23TvzVer%C3%A3oNordeste', 'query': '%23TvzVer%C3%A3oNordeste'}, {'name': '#ReasonsToStayInside', 'tweet_volume': None, 'promoted_content': None, 'url': 'http://twitter.com/search?q=%23ReasonsToStayInside', 'query': '%23ReasonsToStayInside'}, {'name': '#BettyLaFea', 'tweet_volume': None, 'promoted_content': None, 'url': 'http://twitter.com/search?q=%23BettyLaFea', 'query': '%23BettyLaFea'}, {'name': '#RiseUp4Roe', 'tweet_volume': None, 'promoted_content': None, 'url': 'http://twitter.com/search?q=%23RiseUp4Roe', 'query': '%23RiseUp4Roe'}, {'name': '#survivorGR', 'tweet_volume': 23687, 'promoted_content': None, 'url': 'http://twitter.com/search?q=%23survivorGR', 'query': '%23survivorGR'}, {'name': '#Presadiretta', 'tweet_volume': None, 'promoted_content': None, 'url': 'http://twitter.com/search?q=%23Presadiretta', 'query': '%23Presadiretta'}, {'name': '#MurgasSC1', 'tweet_volume': None, 'promoted_content': None, 'url': 'http://twitter.com/search?q=%23MurgasSC1', 'query': '%23MurgasSC1'}, {'name': '#peliculasconeuroorden', 'tweet_volume': None, 'promoted_content': None, 'url': 'http://twitter.com/search?q=%23peliculasconeuroorden', 'query': '%23peliculasconeuroorden'}, {'name': '#PerfectOnFriday', 'tweet_volume': 23628, 'promoted_content': None, 'url': 'http://twitter.com/search?q=%23PerfectOnFriday', 'query': '%23PerfectOnFriday'}, {'name': '#UniversityChallenge', 'tweet_volume': None, 'promoted_content': None, 'url': 'http://twitter.com/search?q=%23UniversityChallenge', 'query': '%23UniversityChallenge'}, {'name': '#HoraPuntaTVE', 'tweet_volume': None, 'promoted_content': None, 'url': 'http://twitter.com/search?q=%23HoraPuntaTVE', 'query': '%23HoraPuntaTVE'}, {'name': '#DiaDeVerão', 'tweet_volume': None, 'promoted_content': None, 'url': 'http://twitter.com/search?q=%23DiaDeVer%C3%A3o', 'query': '%23DiaDeVer%C3%A3o'}, {'name': '#AdivinenQuien', 'tweet_volume': None, 'promoted_content': None, 'url': 'http://twitter.com/search?q=%23AdivinenQuien', 'query': '%23AdivinenQuien'}, {'name': '#TenhoFeticheEm', 'tweet_volume': 37665, 'promoted_content': None, 'url': 'http://twitter.com/search?q=%23TenhoFeticheEm', 'query': '%23TenhoFeticheEm'}, {'name': '#المرتزق_خالد_الروضان', 'tweet_volume': None, 'promoted_content': None, 'url': 'http://twitter.com/search?q=%23%D8%A7%D9%84%D9%85%D8%B1%D8%AA%D8%B2%D9%82_%D8%AE%D8%A7%D9%84%D8%AF_%D8%A7%D9%84%D8%B1%D9%88%D8%B6%D8%A7%D9%86', 'query': '%23%D8%A7%D9%84%D9%85%D8%B1%D8%AA%D8%B2%D9%82_%D8%AE%D8%A7%D9%84%D8%AF_%D8%A7%D9%84%D8%B1%D9%88%D8%B6%D8%A7%D9%86'}, {'name': '#conquis2', 'tweet_volume': None, 'promoted_content': None, 'url': 'http://twitter.com/search?q=%23conquis2', 'query': '%23conquis2'}, {'name': '#cirilica', 'tweet_volume': 10687, 'promoted_content': None, 'url': 'http://twitter.com/search?q=%23cirilica', 'query': '%23cirilica'}, {'name': '#mrfrankvisser', 'tweet_volume': None, 'promoted_content': None, 'url': 'http://twitter.com/search?q=%23mrfrankvisser', 'query': '%23mrfrankvisser'}, {'name': '#خلطات_ام_نايف_للشهبان_اللهبان', 'tweet_volume': 35984, 'promoted_content': None, 'url': 'http://twitter.com/search?q=%23%D8%AE%D9%84%D8%B7%D8%A7%D8%AA_%D8%A7%D9%85_%D9%86%D8%A7%D9%8A%D9%81_%D9%84%D9%84%D8%B4%D9%87%D8%A8%D8%A7%D9%86_%D8%A7%D9%84%D9%84%D9%87%D8%A8%D8%A7%D9%86', 'query': '%23%D8%AE%D9%84%D8%B7%D8%A7%D8%AA_%D8%A7%D9%85_%D9%86%D8%A7%D9%8A%D9%81_%D9%84%D9%84%D8%B4%D9%87%D8%A8%D8%A7%D9%86_%D8%A7%D9%84%D9%84%D9%87%D8%A8%D8%A7%D9%86'}], 'created_at': '2018-01-22T22:29:13Z', 'locations': [{'woeid': 1, 'name': 'Worldwide'}], 'as_of': '2018-01-22T22:33:33Z'}]\n"
     ]
    }
   ],
   "source": [
    "# The Yahoo! Where On Earth ID for the entire world is 1, and for the USA is 23424977\n",
    "\n",
    "WORLD_WOE_ID = 1\n",
    "US_WOE_ID = 23424977\n",
    "\n",
    "world_trends = twitter_api.trends.place(_id=WORLD_WOE_ID)\n",
    "us_trends = twitter_api.trends.place(_id=US_WOE_ID)\n",
    "\n",
    "print(world_trends)\n"
   ]
  },
  {
   "cell_type": "code",
   "execution_count": 4,
   "metadata": {},
   "outputs": [
    {
     "name": "stdout",
     "output_type": "stream",
     "text": [
      "[{'name': '#OTGala12', 'tweet_volume': 132551, 'promoted_content': None, 'url': 'http://twitter.com/search?q=%23OTGala12', 'query': '%23OTGala12'}, {'name': '#isola', 'tweet_volume': 72468, 'promoted_content': None, 'url': 'http://twitter.com/search?q=%23isola', 'query': '%23isola'}, {'name': '#بن_شرقي_هلالي', 'tweet_volume': 69384, 'promoted_content': None, 'url': 'http://twitter.com/search?q=%23%D8%A8%D9%86_%D8%B4%D8%B1%D9%82%D9%8A_%D9%87%D9%84%D8%A7%D9%84%D9%8A', 'query': '%23%D8%A8%D9%86_%D8%B4%D8%B1%D9%82%D9%8A_%D9%87%D9%84%D8%A7%D9%84%D9%8A'}]\n"
     ]
    }
   ],
   "source": [
    "print(world_trends[0]['trends'][:3])"
   ]
  },
  {
   "cell_type": "code",
   "execution_count": 5,
   "metadata": {
    "scrolled": false
   },
   "outputs": [
    {
     "name": "stdout",
     "output_type": "stream",
     "text": [
      "[\n",
      " {\n",
      "  \"name\": \"#OTGala12\",\n",
      "  \"tweet_volume\": 132551,\n",
      "  \"promoted_content\": null,\n",
      "  \"url\": \"http://twitter.com/search?q=%23OTGala12\",\n",
      "  \"query\": \"%23OTGala12\"\n",
      " },\n",
      " {\n",
      "  \"name\": \"#isola\",\n",
      "  \"tweet_volume\": 72468,\n",
      "  \"promoted_content\": null,\n",
      "  \"url\": \"http://twitter.com/search?q=%23isola\",\n",
      "  \"query\": \"%23isola\"\n",
      " },\n",
      " {\n",
      "  \"name\": \"#\\u0628\\u0646_\\u0634\\u0631\\u0642\\u064a_\\u0647\\u0644\\u0627\\u0644\\u064a\",\n",
      "  \"tweet_volume\": 69384,\n",
      "  \"promoted_content\": null,\n",
      "  \"url\": \"http://twitter.com/search?q=%23%D8%A8%D9%86_%D8%B4%D8%B1%D9%82%D9%8A_%D9%87%D9%84%D8%A7%D9%84%D9%8A\",\n",
      "  \"query\": \"%23%D8%A8%D9%86_%D8%B4%D8%B1%D9%82%D9%8A_%D9%87%D9%84%D8%A7%D9%84%D9%8A\"\n",
      " }\n",
      "]\n"
     ]
    }
   ],
   "source": [
    "# make it more readable\n",
    "print(json.dumps(world_trends[0]['trends'][:3],indent=1))"
   ]
  },
  {
   "cell_type": "code",
   "execution_count": 6,
   "metadata": {
    "collapsed": true
   },
   "outputs": [],
   "source": [
    "# Get unique trends for the world and the US\n",
    "world_trends_set = set([trend['name'] for trend in world_trends[0]['trends']])\n",
    "us_trends_set = set([trend['name'] for trend in us_trends[0]['trends']])"
   ]
  },
  {
   "cell_type": "code",
   "execution_count": 7,
   "metadata": {},
   "outputs": [
    {
     "name": "stdout",
     "output_type": "stream",
     "text": [
      "{'#OTGala12', '#Alexis7', 'Jason Kidd', 'Rupert Murdoch', 'Swansea', '#ReasonsToStayInside', '#RiseUp4Roe'}\n"
     ]
    }
   ],
   "source": [
    "# Look for the intersection of trends between the world and the US\n",
    "common_trends = world_trends_set.intersection(us_trends_set)\n",
    "\n",
    "print(common_trends)"
   ]
  },
  {
   "cell_type": "code",
   "execution_count": 8,
   "metadata": {
    "collapsed": true
   },
   "outputs": [],
   "source": [
    "from urllib.parse import unquote"
   ]
  },
  {
   "cell_type": "code",
   "execution_count": 9,
   "metadata": {
    "scrolled": false
   },
   "outputs": [
    {
     "name": "stdout",
     "output_type": "stream",
     "text": [
      "Length of statuses 67\n",
      "{\n",
      " \"created_at\": \"Mon Jan 22 22:33:19 +0000 2018\",\n",
      " \"in_reply_to_user_id_str\": null,\n",
      " \"in_reply_to_status_id\": null,\n",
      " \"retweeted_status\": {\n",
      "  \"created_at\": \"Mon Jan 22 19:03:49 +0000 2018\",\n",
      "  \"in_reply_to_user_id_str\": null,\n",
      "  \"possibly_sensitive\": false,\n",
      "  \"in_reply_to_status_id\": null,\n",
      "  \"source\": \"<a href=\\\"http://twitter.com\\\" rel=\\\"nofollow\\\">Twitter Web Client</a>\",\n",
      "  \"contributors\": null,\n",
      "  \"coordinates\": null,\n",
      "  \"id_str\": \"955516368849457154\",\n",
      "  \"is_quote_status\": false,\n",
      "  \"favorite_count\": 61,\n",
      "  \"retweet_count\": 30,\n",
      "  \"in_reply_to_user_id\": null,\n",
      "  \"retweeted\": false,\n",
      "  \"truncated\": true,\n",
      "  \"id\": 955516368849457154,\n",
      "  \"in_reply_to_status_id_str\": null,\n",
      "  \"in_reply_to_screen_name\": null,\n",
      "  \"text\": \"Putting #BigData #Analytics all together -- #DataScience deconstructed and reconstructed into one business process:\\u2026 https://t.co/Ap2Gdo7hF4\",\n",
      "  \"place\": null,\n",
      "  \"geo\": null,\n",
      "  \"user\": {\n",
      "   \"created_at\": \"Fri Mar 23 16:35:17 +0000 2012\",\n",
      "   \"profile_sidebar_fill_color\": \"DDEEF6\",\n",
      "   \"profile_link_color\": \"0084B4\",\n",
      "   \"profile_image_url_https\": \"https://pbs.twimg.com/profile_images/869301637269139458/3wIcLiQC_normal.jpg\",\n",
      "   \"profile_background_image_url\": \"http://pbs.twimg.com/profile_background_images/378800000110442114/094a0b4d38b70e3871a1bda7d7fe2341.jpeg\",\n",
      "   \"profile_text_color\": \"333333\",\n",
      "   \"is_translator\": false,\n",
      "   \"utc_offset\": -18000,\n",
      "   \"contributors_enabled\": false,\n",
      "   \"friends_count\": 47677,\n",
      "   \"screen_name\": \"KirkDBorne\",\n",
      "   \"followers_count\": 184616,\n",
      "   \"profile_background_color\": \"C0DEED\",\n",
      "   \"profile_background_tile\": true,\n",
      "   \"id_str\": \"534563976\",\n",
      "   \"translator_type\": \"none\",\n",
      "   \"protected\": false,\n",
      "   \"is_translation_enabled\": false,\n",
      "   \"listed_count\": 6914,\n",
      "   \"notifications\": false,\n",
      "   \"profile_image_url\": \"http://pbs.twimg.com/profile_images/869301637269139458/3wIcLiQC_normal.jpg\",\n",
      "   \"profile_banner_url\": \"https://pbs.twimg.com/profile_banners/534563976/1450104430\",\n",
      "   \"profile_use_background_image\": true,\n",
      "   \"id\": 534563976,\n",
      "   \"favourites_count\": 132853,\n",
      "   \"url\": \"https://t.co/tWlmeuTlR7\",\n",
      "   \"follow_request_sent\": false,\n",
      "   \"default_profile_image\": false,\n",
      "   \"following\": false,\n",
      "   \"profile_sidebar_border_color\": \"FFFFFF\",\n",
      "   \"has_extended_profile\": true,\n",
      "   \"statuses_count\": 81816,\n",
      "   \"location\": \"Booz Allen Hamilton\",\n",
      "   \"profile_background_image_url_https\": \"https://pbs.twimg.com/profile_background_images/378800000110442114/094a0b4d38b70e3871a1bda7d7fe2341.jpeg\",\n",
      "   \"geo_enabled\": false,\n",
      "   \"lang\": \"en\",\n",
      "   \"name\": \"Kirk Borne\",\n",
      "   \"entities\": {\n",
      "    \"description\": {\n",
      "     \"urls\": [\n",
      "      {\n",
      "       \"indices\": [\n",
      "        119,\n",
      "        142\n",
      "       ],\n",
      "       \"expanded_url\": \"http://rocketdatascience.org/\",\n",
      "       \"url\": \"https://t.co/f4gsbNc00C\",\n",
      "       \"display_url\": \"rocketdatascience.org\"\n",
      "      }\n",
      "     ]\n",
      "    },\n",
      "    \"url\": {\n",
      "     \"urls\": [\n",
      "      {\n",
      "       \"indices\": [\n",
      "        0,\n",
      "        23\n",
      "       ],\n",
      "       \"expanded_url\": \"http://www.linkedin.com/in/kirkdborne\",\n",
      "       \"url\": \"https://t.co/tWlmeuTlR7\",\n",
      "       \"display_url\": \"linkedin.com/in/kirkdborne\"\n",
      "      }\n",
      "     ]\n",
      "    }\n",
      "   },\n",
      "   \"time_zone\": \"Eastern Time (US & Canada)\",\n",
      "   \"default_profile\": false,\n",
      "   \"verified\": true,\n",
      "   \"description\": \"The Principal Data Scientist at @BoozAllen, PhD Astrophysicist. Top Data Science and Big Data Influencer. Ex-Professor https://t.co/f4gsbNc00C \\ud83d\\udcca\\ud83d\\udcc8\\ud83d\\udd2d\"\n",
      "  },\n",
      "  \"lang\": \"en\",\n",
      "  \"metadata\": {\n",
      "   \"result_type\": \"recent\",\n",
      "   \"iso_language_code\": \"en\"\n",
      "  },\n",
      "  \"entities\": {\n",
      "   \"urls\": [\n",
      "    {\n",
      "     \"indices\": [\n",
      "      117,\n",
      "      140\n",
      "     ],\n",
      "     \"expanded_url\": \"https://twitter.com/i/web/status/955516368849457154\",\n",
      "     \"url\": \"https://t.co/Ap2Gdo7hF4\",\n",
      "     \"display_url\": \"twitter.com/i/web/status/9\\u2026\"\n",
      "    }\n",
      "   ],\n",
      "   \"hashtags\": [\n",
      "    {\n",
      "     \"text\": \"BigData\",\n",
      "     \"indices\": [\n",
      "      8,\n",
      "      16\n",
      "     ]\n",
      "    },\n",
      "    {\n",
      "     \"text\": \"Analytics\",\n",
      "     \"indices\": [\n",
      "      17,\n",
      "      27\n",
      "     ]\n",
      "    },\n",
      "    {\n",
      "     \"text\": \"DataScience\",\n",
      "     \"indices\": [\n",
      "      44,\n",
      "      56\n",
      "     ]\n",
      "    }\n",
      "   ],\n",
      "   \"user_mentions\": [],\n",
      "   \"symbols\": []\n",
      "  },\n",
      "  \"favorited\": false\n",
      " },\n",
      " \"source\": \"<a href=\\\"http://twitter.com\\\" rel=\\\"nofollow\\\">Twitter Web Client</a>\",\n",
      " \"contributors\": null,\n",
      " \"coordinates\": null,\n",
      " \"id_str\": \"955569090541817857\",\n",
      " \"is_quote_status\": false,\n",
      " \"favorite_count\": 0,\n",
      " \"retweet_count\": 30,\n",
      " \"in_reply_to_user_id\": null,\n",
      " \"retweeted\": false,\n",
      " \"truncated\": false,\n",
      " \"id\": 955569090541817857,\n",
      " \"in_reply_to_status_id_str\": null,\n",
      " \"in_reply_to_screen_name\": null,\n",
      " \"text\": \"RT @KirkDBorne: Putting #BigData #Analytics all together -- #DataScience deconstructed and reconstructed into one business process: https:/\\u2026\",\n",
      " \"place\": null,\n",
      " \"geo\": null,\n",
      " \"user\": {\n",
      "  \"created_at\": \"Sun Sep 11 13:28:24 +0000 2011\",\n",
      "  \"profile_sidebar_fill_color\": \"7380A2\",\n",
      "  \"profile_link_color\": \"4CC9F5\",\n",
      "  \"profile_image_url_https\": \"https://pbs.twimg.com/profile_images/3410435439/d78a5fbc18bb9b3c60862143980969d9_normal.jpeg\",\n",
      "  \"profile_background_image_url\": \"http://pbs.twimg.com/profile_background_images/849051783/2ce6f643b48d3bd81beb491f1cc447b5.jpeg\",\n",
      "  \"profile_text_color\": \"2698FB\",\n",
      "  \"is_translator\": false,\n",
      "  \"utc_offset\": -18000,\n",
      "  \"contributors_enabled\": false,\n",
      "  \"friends_count\": 119,\n",
      "  \"screen_name\": \"krohitm\",\n",
      "  \"followers_count\": 36,\n",
      "  \"profile_background_color\": \"DDE1E0\",\n",
      "  \"profile_background_tile\": false,\n",
      "  \"id_str\": \"371762066\",\n",
      "  \"translator_type\": \"none\",\n",
      "  \"protected\": false,\n",
      "  \"is_translation_enabled\": false,\n",
      "  \"listed_count\": 0,\n",
      "  \"notifications\": false,\n",
      "  \"profile_image_url\": \"http://pbs.twimg.com/profile_images/3410435439/d78a5fbc18bb9b3c60862143980969d9_normal.jpeg\",\n",
      "  \"profile_banner_url\": \"https://pbs.twimg.com/profile_banners/371762066/1363790414\",\n",
      "  \"profile_use_background_image\": true,\n",
      "  \"id\": 371762066,\n",
      "  \"favourites_count\": 42,\n",
      "  \"url\": \"http://t.co/QikYDqWsa8\",\n",
      "  \"follow_request_sent\": false,\n",
      "  \"default_profile_image\": false,\n",
      "  \"following\": false,\n",
      "  \"profile_sidebar_border_color\": \"FFFFFF\",\n",
      "  \"has_extended_profile\": false,\n",
      "  \"statuses_count\": 67,\n",
      "  \"location\": \"Gainesville, FL\",\n",
      "  \"profile_background_image_url_https\": \"https://pbs.twimg.com/profile_background_images/849051783/2ce6f643b48d3bd81beb491f1cc447b5.jpeg\",\n",
      "  \"geo_enabled\": true,\n",
      "  \"lang\": \"en\",\n",
      "  \"name\": \"Rohit Malhotra\",\n",
      "  \"entities\": {\n",
      "   \"description\": {\n",
      "    \"urls\": []\n",
      "   },\n",
      "   \"url\": {\n",
      "    \"urls\": [\n",
      "     {\n",
      "      \"indices\": [\n",
      "       0,\n",
      "       22\n",
      "      ],\n",
      "      \"expanded_url\": \"http://facebook.com/k.rohit.malhotra\",\n",
      "      \"url\": \"http://t.co/QikYDqWsa8\",\n",
      "      \"display_url\": \"facebook.com/k.rohit.malhot\\u2026\"\n",
      "     }\n",
      "    ]\n",
      "   }\n",
      "  },\n",
      "  \"time_zone\": \"Eastern Time (US & Canada)\",\n",
      "  \"default_profile\": false,\n",
      "  \"verified\": false,\n",
      "  \"description\": \"Define your limits.\\r\\nDon't let your limits define you.\\r\\nBelieve you are LIMITLESS, and you will be.\"\n",
      " },\n",
      " \"lang\": \"en\",\n",
      " \"metadata\": {\n",
      "  \"result_type\": \"recent\",\n",
      "  \"iso_language_code\": \"en\"\n",
      " },\n",
      " \"entities\": {\n",
      "  \"urls\": [],\n",
      "  \"hashtags\": [\n",
      "   {\n",
      "    \"text\": \"BigData\",\n",
      "    \"indices\": [\n",
      "     24,\n",
      "     32\n",
      "    ]\n",
      "   },\n",
      "   {\n",
      "    \"text\": \"Analytics\",\n",
      "    \"indices\": [\n",
      "     33,\n",
      "     43\n",
      "    ]\n",
      "   },\n",
      "   {\n",
      "    \"text\": \"DataScience\",\n",
      "    \"indices\": [\n",
      "     60,\n",
      "     72\n",
      "    ]\n",
      "   }\n",
      "  ],\n",
      "  \"user_mentions\": [\n",
      "   {\n",
      "    \"name\": \"Kirk Borne\",\n",
      "    \"id_str\": \"534563976\",\n",
      "    \"id\": 534563976,\n",
      "    \"screen_name\": \"KirkDBorne\",\n",
      "    \"indices\": [\n",
      "     3,\n",
      "     14\n",
      "    ]\n",
      "   }\n",
      "  ],\n",
      "  \"symbols\": []\n",
      " },\n",
      " \"favorited\": false\n",
      "}\n"
     ]
    }
   ],
   "source": [
    "q = '#Datascience'\n",
    "count = 100\n",
    "\n",
    "search_results = twitter_api.search.tweets(q=q, count=count)\n",
    "\n",
    "statuses = search_results['statuses']\n",
    "\n",
    "for _ in range(5):\n",
    "    print(\"Length of statuses\", len(statuses))\n",
    "    try:\n",
    "        next_results = search_results['search_metadata']['next_results']\n",
    "    except:\n",
    "        break\n",
    "    kwargs = dict([kv.split('=') for kv in unquote(next_results[1:])])\n",
    "    search_results = twitter_api.search.tweets(**kwargs)\n",
    "    statuses += search_results['statuses']\n",
    "\n",
    "print(json.dumps(statuses[0], indent=1))"
   ]
  },
  {
   "cell_type": "code",
   "execution_count": 10,
   "metadata": {},
   "outputs": [
    {
     "name": "stdout",
     "output_type": "stream",
     "text": [
      "[\n",
      " \"RT @KirkDBorne: Putting #BigData #Analytics all together -- #DataScience deconstructed and reconstructed into one business process: https:/\\u2026\",\n",
      " \"RT @greatnews2017: #MachineLearning A-Z\\u2122: Hands-On #Python &amp; #R In #DataScience https://t.co/YSPQYOiv0B https://t.co/3cMfCzbz61\",\n",
      " \"Reviewing 2017 and Previewing 2018 https://t.co/TelsqZiDvI #DataScience #machinelearning #data https://t.co/lpG6l7WtY6\",\n",
      " \"Reviewing 2017 and Previewing 2018 https://t.co/4wofiUiTj2 #datascience #machinelearning #data\",\n",
      " \"RT @ActivevoiceSw: The Quant Crunch: The demand for data science skills https://t.co/DKqZAmsWNV #DataScience #AI #ML #fintech #insurtech ht\\u2026\"\n",
      "]\n",
      "[\n",
      " \"KirkDBorne\",\n",
      " \"greatnews2017\",\n",
      " \"ActivevoiceSw\",\n",
      " \"Shirastweet\",\n",
      " \"Ananna16\"\n",
      "]\n",
      "[\n",
      " \"BigData\",\n",
      " \"Analytics\",\n",
      " \"DataScience\",\n",
      " \"MachineLearning\",\n",
      " \"Python\"\n",
      "]\n",
      "[\n",
      " 140,\n",
      " 131,\n",
      " 118,\n",
      " 94,\n",
      " 140\n",
      "]\n"
     ]
    }
   ],
   "source": [
    "# creates lists for : text of the status, screen name, hashtag, tweet length, and words\n",
    "status_texts = [status['text'] for status in statuses]\n",
    "\n",
    "screen_names = [user_mention['screen_name'] for status in statuses for user_mention in status['entities']['user_mentions']]\n",
    "\n",
    "hashtags = [hashtag['text'] for status in statuses for hashtag in status['entities']['hashtags']]\n",
    "\n",
    "tweet_length = [len(w) for t in status_texts for w in t.split(',')]\n",
    "\n",
    "words = [w for t in status_texts for w in t.split()]\n",
    "\n",
    "print (json.dumps(status_texts[0:5], indent=1))\n",
    "print (json.dumps(screen_names[0:5], indent=1))\n",
    "print (json.dumps(hashtags[0:5], indent=1))\n",
    "print (json.dumps(tweet_length[0:5], indent=1))\n",
    "\n"
   ]
  },
  {
   "cell_type": "code",
   "execution_count": 11,
   "metadata": {},
   "outputs": [
    {
     "name": "stdout",
     "output_type": "stream",
     "text": [
      "[('#DataScience', 50), ('RT', 48), ('#AI', 25), ('@Ananna16:', 21), ('Best', 18), ('Courses', 18), ('#DataScientist', 18), ('for', 14), ('#BigData', 14), ('of', 12)]\n",
      "[('Ananna16', 21), ('KirkDBorne', 5), ('Rbloggers', 4), ('gcosma1', 2), ('laurenceneid', 2), ('ahmedjr_16', 2), ('ImDataScientist', 2), ('odscai', 2), ('odsc', 2), ('Shirastweet', 1)]\n",
      "[('DataScience', 52), ('AI', 25), ('DataScientist', 18), ('BigData', 15), ('MachineLearning', 11), ('datascience', 10), ('DeepLearning', 9), ('IoT', 8), ('BI', 8), ('Business', 7)]\n"
     ]
    }
   ],
   "source": [
    "from collections import Counter\n",
    "\n",
    "# count for frequencies of words, screen names, and hashtags\n",
    "for item in [words, screen_names, hashtags]:\n",
    "    c = Counter(item)\n",
    "    print (c.most_common()[:10]) # top 10"
   ]
  },
  {
   "cell_type": "code",
   "execution_count": 12,
   "metadata": {},
   "outputs": [
    {
     "name": "stdout",
     "output_type": "stream",
     "text": [
      "+----------------+-------+\n",
      "| Word           | Count |\n",
      "+----------------+-------+\n",
      "| #DataScience   |    50 |\n",
      "| RT             |    48 |\n",
      "| #AI            |    25 |\n",
      "| @Ananna16:     |    21 |\n",
      "| Best           |    18 |\n",
      "| Courses        |    18 |\n",
      "| #DataScientist |    18 |\n",
      "| for            |    14 |\n",
      "| #BigData       |    14 |\n",
      "| of             |    12 |\n",
      "+----------------+-------+\n",
      "+-----------------+-------+\n",
      "| Screen Name     | Count |\n",
      "+-----------------+-------+\n",
      "| Ananna16        |    21 |\n",
      "| KirkDBorne      |     5 |\n",
      "| Rbloggers       |     4 |\n",
      "| gcosma1         |     2 |\n",
      "| laurenceneid    |     2 |\n",
      "| ahmedjr_16      |     2 |\n",
      "| ImDataScientist |     2 |\n",
      "| odscai          |     2 |\n",
      "| odsc            |     2 |\n",
      "| Shirastweet     |     1 |\n",
      "+-----------------+-------+\n",
      "+-----------------+-------+\n",
      "| Hashtag         | Count |\n",
      "+-----------------+-------+\n",
      "| DataScience     |    52 |\n",
      "| AI              |    25 |\n",
      "| DataScientist   |    18 |\n",
      "| BigData         |    15 |\n",
      "| MachineLearning |    11 |\n",
      "| datascience     |    10 |\n",
      "| DeepLearning    |     9 |\n",
      "| IoT             |     8 |\n",
      "| BI              |     8 |\n",
      "| Business        |     7 |\n",
      "+-----------------+-------+\n"
     ]
    }
   ],
   "source": [
    "# use pretytable to construct separate tables for words, screen name and hashtag\n",
    "from prettytable import PrettyTable\n",
    "\n",
    "for label, data in (('Word', words), \n",
    "                    ('Screen Name', screen_names), \n",
    "                    ('Hashtag', hashtags)):\n",
    "    pt = PrettyTable(field_names=[label, 'Count']) \n",
    "    c = Counter(data)\n",
    "    [ pt.add_row(kv) for kv in c.most_common()[:10] ]\n",
    "    pt.align[label], pt.align['Count'] = 'l', 'r' # Set column alignment\n",
    "    print (pt)"
   ]
  },
  {
   "cell_type": "code",
   "execution_count": 13,
   "metadata": {
    "collapsed": true
   },
   "outputs": [],
   "source": [
    "# Another way to construct tables is to use panda\n",
    "dfs =[]\n",
    "for label,data in (('Word',words),('Screen Name', screen_names),('Hashtag',hashtags)):\n",
    "    dfs.append(pd.DataFrame([list(i) for i in Counter(data).most_common()[:10]], columns=[label,'count']))"
   ]
  },
  {
   "cell_type": "code",
   "execution_count": 14,
   "metadata": {},
   "outputs": [
    {
     "name": "stdout",
     "output_type": "stream",
     "text": [
      "             Word  count\n",
      "0    #DataScience     50\n",
      "1              RT     48\n",
      "2             #AI     25\n",
      "3      @Ananna16:     21\n",
      "4            Best     18\n",
      "5         Courses     18\n",
      "6  #DataScientist     18\n",
      "7             for     14\n",
      "8        #BigData     14\n",
      "9              of     12\n",
      "       Screen Name  count\n",
      "0         Ananna16     21\n",
      "1       KirkDBorne      5\n",
      "2        Rbloggers      4\n",
      "3          gcosma1      2\n",
      "4     laurenceneid      2\n",
      "5       ahmedjr_16      2\n",
      "6  ImDataScientist      2\n",
      "7           odscai      2\n",
      "8             odsc      2\n",
      "9      Shirastweet      1\n",
      "           Hashtag  count\n",
      "0      DataScience     52\n",
      "1               AI     25\n",
      "2    DataScientist     18\n",
      "3          BigData     15\n",
      "4  MachineLearning     11\n",
      "5      datascience     10\n",
      "6     DeepLearning      9\n",
      "7              IoT      8\n",
      "8               BI      8\n",
      "9         Business      7\n"
     ]
    }
   ],
   "source": [
    "for i in dfs:\n",
    "    print(i)"
   ]
  },
  {
   "cell_type": "code",
   "execution_count": 15,
   "metadata": {},
   "outputs": [
    {
     "name": "stdout",
     "output_type": "stream",
     "text": [
      "Lexical diversity for words: 0.3882978723404255\n",
      "Lexical diversity for hashtags: 0.23793103448275862\n",
      "The average number of words in a tweet is:  14.029850746268657\n"
     ]
    }
   ],
   "source": [
    "def lexical_diversity(tokens):\n",
    "    return 1.0*len(set(tokens))/len(tokens)\n",
    "\n",
    "def average_words(tweet):\n",
    "    total_words = sum([len(s.split()) for s in tweet])\n",
    "    return 1.0*total_words/len(tweet)\n",
    "\n",
    "print ('Lexical diversity for words:', lexical_diversity(words))\n",
    "print ('Lexical diversity for hashtags:', lexical_diversity(hashtags))\n",
    "print ('The average number of words in a tweet is: ',average_words(status_texts))\n"
   ]
  },
  {
   "cell_type": "code",
   "execution_count": 16,
   "metadata": {},
   "outputs": [
    {
     "data": {
      "text/html": [
       "<div>\n",
       "<style>\n",
       "    .dataframe thead tr:only-child th {\n",
       "        text-align: right;\n",
       "    }\n",
       "\n",
       "    .dataframe thead th {\n",
       "        text-align: left;\n",
       "    }\n",
       "\n",
       "    .dataframe tbody tr th {\n",
       "        vertical-align: top;\n",
       "    }\n",
       "</style>\n",
       "<table border=\"1\" class=\"dataframe\">\n",
       "  <thead>\n",
       "    <tr style=\"text-align: right;\">\n",
       "      <th></th>\n",
       "      <th>count</th>\n",
       "      <th>SN</th>\n",
       "      <th>Text</th>\n",
       "    </tr>\n",
       "  </thead>\n",
       "  <tbody>\n",
       "    <tr>\n",
       "      <th>0</th>\n",
       "      <td>30</td>\n",
       "      <td>KirkDBorne</td>\n",
       "      <td>RT @KirkDBorne: Putting #BigData #Analytics al...</td>\n",
       "    </tr>\n",
       "    <tr>\n",
       "      <th>1</th>\n",
       "      <td>212</td>\n",
       "      <td>greatnews2017</td>\n",
       "      <td>RT @greatnews2017: #MachineLearning A-Z™: Hand...</td>\n",
       "    </tr>\n",
       "    <tr>\n",
       "      <th>2</th>\n",
       "      <td>1</td>\n",
       "      <td>ActivevoiceSw</td>\n",
       "      <td>RT @ActivevoiceSw: The Quant Crunch: The deman...</td>\n",
       "    </tr>\n",
       "    <tr>\n",
       "      <th>3</th>\n",
       "      <td>168</td>\n",
       "      <td>Shirastweet</td>\n",
       "      <td>RT @Shirastweet: 6 Key Requirements For #IOT S...</td>\n",
       "    </tr>\n",
       "    <tr>\n",
       "      <th>4</th>\n",
       "      <td>4</td>\n",
       "      <td>Ananna16</td>\n",
       "      <td>RT @Ananna16: 17 Best #ArtificialIntelligence ...</td>\n",
       "    </tr>\n",
       "  </tbody>\n",
       "</table>\n",
       "</div>"
      ],
      "text/plain": [
       "   count             SN                                               Text\n",
       "0     30     KirkDBorne  RT @KirkDBorne: Putting #BigData #Analytics al...\n",
       "1    212  greatnews2017  RT @greatnews2017: #MachineLearning A-Z™: Hand...\n",
       "2      1  ActivevoiceSw  RT @ActivevoiceSw: The Quant Crunch: The deman...\n",
       "3    168    Shirastweet  RT @Shirastweet: 6 Key Requirements For #IOT S...\n",
       "4      4       Ananna16  RT @Ananna16: 17 Best #ArtificialIntelligence ..."
      ]
     },
     "execution_count": 16,
     "metadata": {},
     "output_type": "execute_result"
    }
   ],
   "source": [
    "# Build a dataframe that contains text, screen name, and retweet count\n",
    "retweets = [\n",
    "            (status['retweet_count'], \n",
    "             status['retweeted_status']['user']['screen_name'],\n",
    "             status['text']) \n",
    "            \n",
    "            for status in statuses \n",
    "            \n",
    "                if 'retweeted_status' in status\n",
    "           ]\n",
    "\n",
    "df_retweets = pd.DataFrame(retweets, columns=['count','SN','Text'])\n",
    "df_retweets.head()"
   ]
  },
  {
   "cell_type": "code",
   "execution_count": 17,
   "metadata": {},
   "outputs": [
    {
     "name": "stdout",
     "output_type": "stream",
     "text": [
      "['YsabelParra', 'WIOMAX_MD', 'biconnections', 'UtarSystems', 'roomeezon', 'itknowingness']\n"
     ]
    }
   ],
   "source": [
    "# Looking up users who have retweeted a status\n",
    "_retweets = twitter_api.statuses.retweets(id=951628964686192640)\n",
    "print ([r['user']['screen_name'] for r in _retweets])"
   ]
  },
  {
   "cell_type": "code",
   "execution_count": 18,
   "metadata": {},
   "outputs": [
    {
     "data": {
      "text/plain": [
       "<matplotlib.text.Text at 0x446a763e10>"
      ]
     },
     "execution_count": 18,
     "metadata": {},
     "output_type": "execute_result"
    },
    {
     "data": {
      "image/png": "[encoded data removed]",
      "text/plain": [
       "<matplotlib.figure.Figure at 0x446a7544e0>"
      ]
     },
     "metadata": {},
     "output_type": "display_data"
    }
   ],
   "source": [
    "# Plotting frequencies of words\n",
    "word_counts = sorted(Counter(words).values(), reverse=True)\n",
    "\n",
    "plt.loglog(word_counts)\n",
    "plt.ylabel(\"Freq\")\n",
    "plt.xlabel(\"Word Rank\")"
   ]
  },
  {
   "cell_type": "code",
   "execution_count": 19,
   "metadata": {},
   "outputs": [
    {
     "data": {
      "image/png": "[encoded data removed]",
      "text/plain": [
       "<matplotlib.figure.Figure at 0x446aa8dac8>"
      ]
     },
     "metadata": {},
     "output_type": "display_data"
    },
    {
     "data": {
      "image/png": "[encoded data removed]",
      "text/plain": [
       "<matplotlib.figure.Figure at 0x446aa9c4e0>"
      ]
     },
     "metadata": {},
     "output_type": "display_data"
    },
    {
     "data": {
      "image/png": "[encoded data removed]",
      "text/plain": [
       "<matplotlib.figure.Figure at 0x446ab5b668>"
      ]
     },
     "metadata": {},
     "output_type": "display_data"
    }
   ],
   "source": [
    "# Generating histograms of words, screen names, and hashtags\n",
    "for label, data in (('Words', words), \n",
    "                    ('Screen Names', screen_names), \n",
    "                    ('Hashtags', hashtags)):\n",
    "\n",
    "    # Build a frequency map for each set of data\n",
    "    # and plot the values\n",
    "    c = Counter(data)\n",
    "    plt.hist(list(c.values()))\n",
    "    \n",
    "    # Add a title and y-label ...\n",
    "    plt.title(label)\n",
    "    plt.ylabel(\"Number of items in bin\")\n",
    "    plt.xlabel(\"Bins (number of times an item appeared)\")\n",
    "    \n",
    "    # ... and display as a new figure\n",
    "    plt.show()"
   ]
  },
  {
   "cell_type": "code",
   "execution_count": 20,
   "metadata": {},
   "outputs": [
    {
     "data": {
      "text/plain": [
       "<matplotlib.text.Text at 0x446ab54438>"
      ]
     },
     "execution_count": 20,
     "metadata": {},
     "output_type": "execute_result"
    },
    {
     "data": {
      "image/png": "[encoded data removed]",
      "text/plain": [
       "<matplotlib.figure.Figure at 0x446aacae48>"
      ]
     },
     "metadata": {},
     "output_type": "display_data"
    }
   ],
   "source": [
    "counts = [count for count, _, _ in retweets]\n",
    "\n",
    "plt.hist(counts)\n",
    "plt.title(\"Retweets\")\n",
    "plt.xlabel('Bins (number of times retweeted)')\n",
    "plt.ylabel('Number of tweets in bin')\n",
    "\n"
   ]
  },
  {
   "cell_type": "code",
   "execution_count": 21,
   "metadata": {},
   "outputs": [
    {
     "data": {
      "text/plain": [
       "<matplotlib.text.Text at 0x446ac9d940>"
      ]
     },
     "execution_count": 21,
     "metadata": {},
     "output_type": "execute_result"
    },
    {
     "data": {
      "image/png": "[encoded data removed]",
      "text/plain": [
       "<matplotlib.figure.Figure at 0x446abe09b0>"
      ]
     },
     "metadata": {},
     "output_type": "display_data"
    }
   ],
   "source": [
    "counts = [count for count, _, _ in retweets]\n",
    "\n",
    "# Taking the log of the *data values* themselves can \n",
    "# often provide quick and valuable insight into the\n",
    "# underlying distribution as well\n",
    "\n",
    "plt.hist(np.log(counts))\n",
    "plt.title(\"Retweets\")\n",
    "plt.xlabel('Log[Bins (number of times retweeted)]')\n",
    "plt.ylabel('Log[Number of tweets in bin]')\n"
   ]
  },
  {
   "cell_type": "code",
   "execution_count": null,
   "metadata": {
    "collapsed": true
   },
   "outputs": [],
   "source": []
  }
 ],
 "metadata": {
  "kernelspec": {
   "display_name": "Python 3",
   "language": "python",
   "name": "python3"
  },
  "language_info": {
   "codemirror_mode": {
    "name": "ipython",
    "version": 3
   },
   "file_extension": ".py",
   "mimetype": "text/x-python",
   "name": "python",
   "nbconvert_exporter": "python",
   "pygments_lexer": "ipython3",
   "version": "3.5.4"
  }
 },
 "nbformat": 4,
 "nbformat_minor": 2
}
